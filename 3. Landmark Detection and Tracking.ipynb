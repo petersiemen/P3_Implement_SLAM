{
 "cells": [
  {
   "cell_type": "markdown",
   "metadata": {},
   "source": [
    "# Project 3:  Implement SLAM \n",
    "\n",
    "---\n",
    "\n",
    "## Project Overview\n",
    "\n",
    "In this project, you'll implement SLAM for robot that moves and senses in a 2 dimensional, grid world!\n",
    "\n",
    "SLAM gives us a way to both localize a robot and build up a map of its environment as a robot moves and senses in real-time. This is an active area of research in the fields of robotics and autonomous systems. Since this localization and map-building relies on the visual sensing of landmarks, this is a computer vision problem. \n",
    "\n",
    "Using what you've learned about robot motion, representations of uncertainty in motion and sensing, and localization techniques, you will be tasked with defining a function, `slam`, which takes in six parameters as input and returns the vector `mu`. \n",
    "> `mu` contains the (x,y) coordinate locations of the robot as it moves, and the positions of landmarks that it senses in the world\n",
    "\n",
    "You can implement helper functions as you see fit, but your function must return `mu`. The vector, `mu`, should have (x, y) coordinates interlaced, for example, if there were 2 poses and 2 landmarks, `mu` will look like the following, where `P` is the robot position and `L` the landmark position:\n",
    "```\n",
    "mu =  matrix([[Px0],\n",
    "              [Py0],\n",
    "              [Px1],\n",
    "              [Py1],\n",
    "              [Lx0],\n",
    "              [Ly0],\n",
    "              [Lx1],\n",
    "              [Ly1]])\n",
    "```\n",
    "\n",
    "You can see that `mu` holds the poses first `(x0, y0), (x1, y1), ...,` then the landmark locations at the end of the matrix; we consider a `nx1` matrix to be a vector.\n",
    "\n",
    "## Generating an environment\n",
    "\n",
    "In a real SLAM problem, you may be given a map that contains information about landmark locations, and in this example, we will make our own data using the `make_data` function, which generates a world grid with landmarks in it and then generates data by placing a robot in that world and moving and sensing over some numer of time steps. The `make_data` function relies on a correct implementation of robot move/sense functions, which, at this point, should be complete and in the `robot_class.py` file. The data is collected as an instantiated robot moves and senses in a world. Your SLAM function will take in this data as input. So, let's first create this data and explore how it represents the movement and sensor measurements that our robot takes.\n",
    "\n",
    "---"
   ]
  },
  {
   "cell_type": "markdown",
   "metadata": {},
   "source": [
    "## Create the world\n",
    "\n",
    "Use the code below to generate a world of a specified size with randomly generated landmark locations. You can change these parameters and see how your implementation of SLAM responds! \n",
    "\n",
    "`data` holds the sensors measurements and motion of your robot over time. It stores the measurements as `data[i][0]` and the motion as `data[i][1]`.\n",
    "\n",
    "#### Helper functions\n",
    "\n",
    "You will be working with the `robot` class that may look familiar from the first notebook, \n",
    "\n",
    "In fact, in the `helpers.py` file, you can read the details of how data is made with the `make_data` function. It should look very similar to the robot move/sense cycle you've seen in the first notebook."
   ]
  },
  {
   "cell_type": "code",
   "execution_count": 34,
   "metadata": {},
   "outputs": [
    {
     "name": "stdout",
     "output_type": "stream",
     "text": [
      " \n",
      "Landmarks:  [[62, 83], [56, 39], [52, 14], [54, 70], [75, 23]]\n",
      "Robot: [x=71.57160 y=14.14890]\n"
     ]
    }
   ],
   "source": [
    "import numpy as np\n",
    "from src.helpers import make_data\n",
    "\n",
    "# your implementation of slam should work with the following inputs\n",
    "# feel free to change these input values and see how it responds!\n",
    "\n",
    "# world parameters\n",
    "num_landmarks      = 5        # number of landmarks\n",
    "N                  = 20       # time steps\n",
    "world_size         = 100.0    # size of world (square)\n",
    "\n",
    "# robot parameters\n",
    "measurement_range  = 50.0     # range at which we can sense landmarks\n",
    "motion_noise       = 2.0      # noise in robot motion\n",
    "measurement_noise  = 2.0      # noise in the measurements\n",
    "distance           = 20.0     # distance by which robot (intends to) move each iteratation \n",
    "\n",
    "\n",
    "# make_data instantiates a robot, AND generates random landmarks for a given world size and number of landmarks\n",
    "data = make_data(N, num_landmarks, world_size, measurement_range, motion_noise, measurement_noise, distance)"
   ]
  },
  {
   "cell_type": "markdown",
   "metadata": {},
   "source": [
    "### A note on `make_data`\n",
    "\n",
    "The function above, `make_data`, takes in so many world and robot motion/sensor parameters because it is responsible for:\n",
    "1. Instantiating a robot (using the robot class)\n",
    "2. Creating a grid world with landmarks in it\n",
    "\n",
    "**This function also prints out the true location of landmarks and the *final* robot location, which you should refer back to when you test your implementation of SLAM.**\n",
    "\n",
    "The `data` this returns is an array that holds information about **robot sensor measurements** and **robot motion** `(dx, dy)` that is collected over a number of time steps, `N`. You will have to use *only* these readings about motion and measurements to track a robot over time and find the determine the location of the landmarks using SLAM. We only print out the true landmark locations for comparison, later.\n",
    "\n",
    "\n",
    "In `data` the measurement and motion data can be accessed from the first and second index in the columns of the data array. See the following code for an example, where `i` is the time step:\n",
    "```\n",
    "measurement = data[i][0]\n",
    "motion = data[i][1]\n",
    "```\n"
   ]
  },
  {
   "cell_type": "code",
   "execution_count": 35,
   "metadata": {},
   "outputs": [
    {
     "name": "stdout",
     "output_type": "stream",
     "text": [
      "Example measurements: \n",
      " [[0, 14.0, 35.0], [1, 8.0, -9.0], [2, 4.0, -34.0], [3, 6.0, 22.0], [4, 27.0, -25.0]]\n",
      "\n",
      "\n",
      "Example motion: \n",
      " [-1.815640335881655, 19.91741575031057]\n"
     ]
    }
   ],
   "source": [
    "# print out some stats about the data\n",
    "time_step = 0\n",
    "\n",
    "print('Example measurements: \\n', data[time_step][0])\n",
    "print('\\n')\n",
    "print('Example motion: \\n', data[time_step][1])"
   ]
  },
  {
   "cell_type": "markdown",
   "metadata": {},
   "source": [
    "Try changing the value of `time_step`, you should see that the list of measurements varies based on what in the world the robot sees after it moves. As you know from the first notebook, the robot can only sense so far and with a certain amount of accuracy in the measure of distance between its location and the location of landmarks. The motion of the robot always is a vector with two values: one for x and one for y displacement. This structure will be useful to keep in mind as you traverse this data in your implementation of slam."
   ]
  },
  {
   "cell_type": "markdown",
   "metadata": {},
   "source": [
    "## Initialize Constraints\n",
    "\n",
    "One of the most challenging tasks here will be to create and modify the constraint matrix and vector: omega and xi. In the second notebook, you saw an example of how omega and xi could hold all the values the define the relationships between robot poses `xi` and landmark positions `Li` in a 1D world, as seen below, where omega is the blue matrix and xi is the pink vector.\n",
    "\n",
    "<img src='images/motion_constraint.png' width=50% height=50% />\n",
    "\n",
    "\n",
    "In *this* project, you are tasked with implementing constraints for a 2D world. We are referring to robot poses as `Px, Py` and landmark positions as `Lx, Ly`, and one way to approach this challenge is to add *both* x and y locations in the constraint matrices.\n",
    "\n",
    "<img src='images/constraints2D.png' width=50% height=50% />\n",
    "\n",
    "You may also choose to create two of each omega and xi (one for x and one for y positions)."
   ]
  },
  {
   "cell_type": "markdown",
   "metadata": {},
   "source": [
    "### TODO: Write a function that initializes omega and xi\n",
    "\n",
    "Complete the function `initialize_constraints` so that it returns `omega` and `xi` constraints for the starting position of the robot. Any values that we do not yet know should be initialized with the value `0`. You may assume that our robot starts out in exactly the middle of the world with 100% confidence (no motion or measurement noise at this point). The inputs `N` time steps, `num_landmarks`, and `world_size` should give you all the information you need to construct intial constraints of the correct size and starting values.\n",
    "\n",
    "*Depending on your approach you may choose to return one omega and one xi that hold all (x,y) positions *or* two of each (one for x values and one for y); choose whichever makes most sense to you!*"
   ]
  },
  {
   "cell_type": "code",
   "execution_count": 48,
   "metadata": {},
   "outputs": [
    {
     "name": "stdout",
     "output_type": "stream",
     "text": [
      "\u001b[34mimport\u001b[39;49;00m \u001b[04m\u001b[36mnumpy\u001b[39;49;00m \u001b[34mas\u001b[39;49;00m \u001b[04m\u001b[36mnp\u001b[39;49;00m\r\n",
      "\r\n",
      "\r\n",
      "\u001b[34mdef\u001b[39;49;00m \u001b[32minitialize_constraints\u001b[39;49;00m(N, num_landmarks, world_size):\r\n",
      "    \u001b[33m''' This function takes in a number of time steps N, number of landmarks, and a world_size,\u001b[39;49;00m\r\n",
      "\u001b[33m        and returns initialized constraint matrices, omega and xi.'''\u001b[39;49;00m\r\n",
      "\r\n",
      "    \u001b[37m## Recommended: Define and store the size (rows/cols) of the constraint matrix in a variable\u001b[39;49;00m\r\n",
      "\r\n",
      "    \u001b[37m## TODO: Define the constraint matrix, Omega, with two initial \"strength\" values\u001b[39;49;00m\r\n",
      "    \u001b[37m## for the initial x, y location of our robot\u001b[39;49;00m\r\n",
      "    rows = \u001b[34m2\u001b[39;49;00m * (N + num_landmarks)\r\n",
      "    cols = rows\r\n",
      "\r\n",
      "    omega = np.zeros((rows, cols))\r\n",
      "\r\n",
      "    \u001b[37m## TODO: Define the constraint *vector*, xi\u001b[39;49;00m\r\n",
      "    \u001b[37m## you can assume that the robot starts out in the middle of the world with 100% confidence\u001b[39;49;00m\r\n",
      "    xi = np.zeros((rows, \u001b[34m1\u001b[39;49;00m))\r\n",
      "\r\n",
      "    x0 = \u001b[34m0\u001b[39;49;00m\r\n",
      "    y0 = \u001b[34m1\u001b[39;49;00m\r\n",
      "    start_x = world_size / \u001b[34m2.\u001b[39;49;00m\r\n",
      "    start_y = world_size / \u001b[34m2.\u001b[39;49;00m\r\n",
      "\r\n",
      "    omega[x0][x0] = \u001b[34m1\u001b[39;49;00m\r\n",
      "    omega[y0][y0] = \u001b[34m1\u001b[39;49;00m\r\n",
      "    xi[x0][\u001b[34m0\u001b[39;49;00m] = start_x\r\n",
      "    xi[y0][\u001b[34m0\u001b[39;49;00m] = start_y\r\n",
      "\r\n",
      "    \u001b[34mreturn\u001b[39;49;00m omega, xi\r\n"
     ]
    }
   ],
   "source": [
    "!pygmentize src/initialize_constraints.py"
   ]
  },
  {
   "cell_type": "code",
   "execution_count": 49,
   "metadata": {},
   "outputs": [
    {
     "name": "stdout",
     "output_type": "stream",
     "text": [
      "The autoreload extension is already loaded. To reload it, use:\n",
      "  %reload_ext autoreload\n"
     ]
    }
   ],
   "source": [
    "%load_ext autoreload\n",
    "%autoreload\n",
    "from src.initialize_constraints import initialize_constraints"
   ]
  },
  {
   "cell_type": "markdown",
   "metadata": {},
   "source": [
    "### Test as you go\n",
    "\n",
    "It's good practice to test out your code, as you go. Since `slam` relies on creating and updating constraint matrices, `omega` and `xi` to account for robot sensor measurements and motion, let's check that they initialize as expected for any given parameters.\n",
    "\n",
    "Below, you'll find some test code that allows you to visualize the results of your function `initialize_constraints`. We are using the [seaborn](https://seaborn.pydata.org/) library for visualization.\n",
    "\n",
    "**Please change the test values of N, landmarks, and world_size and see the results**. Be careful not to use these values as input into your final smal function.\n",
    "\n",
    "This code assumes that you have created one of each constraint: `omega` and `xi`, but you can change and add to this code, accordingly. The constraints should vary in size with the number of time steps and landmarks as these values affect the number of poses a robot will take `(Px0,Py0,...Pxn,Pyn)` and landmark locations `(Lx0,Ly0,...Lxn,Lyn)` whose relationships should be tracked in the constraint matrices. Recall that `omega` holds the weights of each variable and `xi` holds the value of the sum of these variables, as seen in Notebook 2. You'll need the `world_size` to determine the starting pose of the robot in the world and fill in the initial values for `xi`."
   ]
  },
  {
   "cell_type": "code",
   "execution_count": 50,
   "metadata": {},
   "outputs": [],
   "source": [
    "# import data viz resources\n",
    "import matplotlib.pyplot as plt\n",
    "from pandas import DataFrame\n",
    "import seaborn as sns\n",
    "%matplotlib inline"
   ]
  },
  {
   "cell_type": "code",
   "execution_count": 51,
   "metadata": {},
   "outputs": [],
   "source": [
    "# define a small N and world_size (small for ease of visualization)\n",
    "N_test = 5\n",
    "num_landmarks_test = 2\n",
    "small_world = 10\n",
    "\n",
    "# initialize the constraints\n",
    "initial_omega, initial_xi = initialize_constraints(N_test, num_landmarks_test, small_world)"
   ]
  },
  {
   "cell_type": "code",
   "execution_count": 52,
   "metadata": {},
   "outputs": [
    {
     "data": {
      "text/plain": [
       "<matplotlib.axes._subplots.AxesSubplot at 0x7fbf733ce7b8>"
      ]
     },
     "execution_count": 52,
     "metadata": {},
     "output_type": "execute_result"
    },
    {
     "data": {
      "image/png": "[encoded data removed]",
      "text/plain": [
       "<Figure size 720x504 with 2 Axes>"
      ]
     },
     "metadata": {
      "needs_background": "light"
     },
     "output_type": "display_data"
    }
   ],
   "source": [
    "# define figure size\n",
    "plt.rcParams[\"figure.figsize\"] = (10,7)\n",
    "\n",
    "# display omega\n",
    "sns.heatmap(DataFrame(initial_omega), cmap='Blues', annot=True, linewidths=.5)"
   ]
  },
  {
   "cell_type": "code",
   "execution_count": 53,
   "metadata": {},
   "outputs": [
    {
     "data": {
      "text/plain": [
       "<matplotlib.axes._subplots.AxesSubplot at 0x7fbf7314a278>"
      ]
     },
     "execution_count": 53,
     "metadata": {},
     "output_type": "execute_result"
    },
    {
     "data": {
      "image/png": "[encoded data removed]",
      "text/plain": [
       "<Figure size 72x504 with 2 Axes>"
      ]
     },
     "metadata": {
      "needs_background": "light"
     },
     "output_type": "display_data"
    }
   ],
   "source": [
    "# define  figure size\n",
    "plt.rcParams[\"figure.figsize\"] = (1,7)\n",
    "\n",
    "# display xi\n",
    "sns.heatmap(DataFrame(initial_xi), cmap='Oranges', annot=True, linewidths=.5)"
   ]
  },
  {
   "cell_type": "markdown",
   "metadata": {},
   "source": [
    "---\n",
    "## SLAM inputs \n",
    "\n",
    "In addition to `data`, your slam function will also take in:\n",
    "* N -   The number of time steps that a robot will be moving and sensing\n",
    "* num_landmarks - The number of landmarks in the world\n",
    "* world_size - The size (w/h) of your world\n",
    "* motion_noise - The noise associated with motion; the update confidence for motion should be `1.0/motion_noise`\n",
    "* measurement_noise - The noise associated with measurement/sensing; the update weight for measurement should be `1.0/measurement_noise`\n",
    "\n",
    "#### A note on noise\n",
    "\n",
    "Recall that `omega` holds the relative \"strengths\" or weights for each position variable, and you can update these weights by accessing the correct index in omega `omega[row][col]` and *adding/subtracting* `1.0/noise` where `noise` is measurement or motion noise. `Xi` holds actual position values, and so to update `xi` you'll do a similar addition process only using the actual value of a motion or measurement. So for a vector index `xi[row][0]` you will end up adding/subtracting one measurement or motion divided by their respective `noise`.\n",
    "\n",
    "### TODO: Implement Graph SLAM\n",
    "\n",
    "Follow the TODO's below to help you complete this slam implementation (these TODO's are in the recommended order), then test out your implementation! \n",
    "\n",
    "#### Updating with motion and measurements\n",
    "\n",
    "With a 2D omega and xi structure as shown above (in earlier cells), you'll have to be mindful about how you update the values in these constraint matrices to account for motion and measurement constraints in the x and y directions. Recall that the solution to these matrices (which holds all values for robot poses `P` and landmark locations `L`) is the vector, `mu`, which can be computed at the end of the construction of omega and xi as the inverse of omega times xi: $\\mu = \\Omega^{-1}\\xi$\n",
    "\n",
    "**You may also choose to return the values of `omega` and `xi` if you want to visualize their final state!**"
   ]
  },
  {
   "cell_type": "code",
   "execution_count": 54,
   "metadata": {},
   "outputs": [
    {
     "name": "stdout",
     "output_type": "stream",
     "text": [
      "\u001b[34mimport\u001b[39;49;00m \u001b[04m\u001b[36mnumpy\u001b[39;49;00m \u001b[34mas\u001b[39;49;00m \u001b[04m\u001b[36mnp\u001b[39;49;00m\r\n",
      "\u001b[34mfrom\u001b[39;49;00m \u001b[04m\u001b[36msrc.initialize_constraints\u001b[39;49;00m \u001b[34mimport\u001b[39;49;00m initialize_constraints\r\n",
      "\r\n",
      "\r\n",
      "\u001b[37m## TODO: Complete the code to implement SLAM\u001b[39;49;00m\r\n",
      "\r\n",
      "\u001b[37m## slam takes in 6 arguments and returns mu,\u001b[39;49;00m\r\n",
      "\u001b[37m## mu is the entire path traversed by a robot (all x,y poses) *and* all landmarks locations\u001b[39;49;00m\r\n",
      "\u001b[34mdef\u001b[39;49;00m \u001b[32mslam\u001b[39;49;00m(data, N, num_landmarks, world_size, motion_noise, measurement_noise):\r\n",
      "    \u001b[37m## TODO: Use your initilization to create constraint matrices, omega and xi\u001b[39;49;00m\r\n",
      "    omega, xi = initialize_constraints(N, num_landmarks, world_size)\r\n",
      "\r\n",
      "    measurement_noise_weight = (\u001b[34m1.0\u001b[39;49;00m / measurement_noise)\r\n",
      "    motion_noise_weight = \u001b[34m1.0\u001b[39;49;00m / motion_noise\r\n",
      "    landmark_positions = N\r\n",
      "\r\n",
      "    \u001b[37m## TODO: Iterate through each time step in the data\u001b[39;49;00m\r\n",
      "    \u001b[37m## get all the motion and measurement data as you iterate\u001b[39;49;00m\r\n",
      "    \u001b[34mfor\u001b[39;49;00m pose, step_data \u001b[35min\u001b[39;49;00m \u001b[36menumerate\u001b[39;49;00m(data):\r\n",
      "        x = pose * \u001b[34m2\u001b[39;49;00m\r\n",
      "        y = x + \u001b[34m1\u001b[39;49;00m\r\n",
      "        measurements = step_data[\u001b[34m0\u001b[39;49;00m]\r\n",
      "        motion = step_data[\u001b[34m1\u001b[39;49;00m]\r\n",
      "        \u001b[34mprint\u001b[39;49;00m(motion)\r\n",
      "\r\n",
      "        \u001b[37m## TODO: update the constraint matrix/vector to account for all *measurements*\u001b[39;49;00m\r\n",
      "        \u001b[37m## this should be a series of additions that take into account the measurement noise\u001b[39;49;00m\r\n",
      "        \u001b[34mfor\u001b[39;49;00m measurement \u001b[35min\u001b[39;49;00m measurements:\r\n",
      "            \u001b[34mprint\u001b[39;49;00m(measurement)\r\n",
      "            landmark_idx = measurement[\u001b[34m0\u001b[39;49;00m]\r\n",
      "            dx = measurement[\u001b[34m1\u001b[39;49;00m]\r\n",
      "            dy = measurement[\u001b[34m2\u001b[39;49;00m]\r\n",
      "\r\n",
      "            landmark_pos_x = (landmark_positions + landmark_idx) * \u001b[34m2\u001b[39;49;00m\r\n",
      "            landmark_pos_y = landmark_pos_x + \u001b[34m1\u001b[39;49;00m\r\n",
      "\r\n",
      "            \u001b[37m# Updating omega values based on current position and measured langmark data\u001b[39;49;00m\r\n",
      "            omega[x][x] += measurement_noise_weight\r\n",
      "            omega[x][landmark_pos_x] -= measurement_noise_weight\r\n",
      "            omega[landmark_pos_x][x] -= measurement_noise_weight\r\n",
      "            omega[landmark_pos_x][landmark_pos_x] += measurement_noise_weight\r\n",
      "\r\n",
      "            omega[y][y] += measurement_noise_weight\r\n",
      "            omega[y][landmark_pos_y] -= measurement_noise_weight\r\n",
      "            omega[landmark_pos_y][y] -= measurement_noise_weight\r\n",
      "            omega[landmark_pos_y][landmark_pos_y] += measurement_noise_weight\r\n",
      "\r\n",
      "            \u001b[37m# Update Xi measurements\u001b[39;49;00m\r\n",
      "            xi[x] -= dx / measurement_noise\r\n",
      "            xi[landmark_pos_x] += dx / measurement_noise\r\n",
      "\r\n",
      "            xi[y] -= dy / measurement_noise\r\n",
      "            xi[landmark_pos_y] += dy / measurement_noise\r\n",
      "\r\n",
      "    \u001b[37m## TODO: update the constraint matrix/vector to account for all *motion* and motion noise\u001b[39;49;00m\r\n",
      "        next_pose_x = x + \u001b[34m2\u001b[39;49;00m\r\n",
      "        next_pose_y = next_pose_x + \u001b[34m1\u001b[39;49;00m\r\n",
      "\r\n",
      "        motion_dx = motion[\u001b[34m0\u001b[39;49;00m]\r\n",
      "        motion_dy = motion[\u001b[34m1\u001b[39;49;00m]\r\n",
      "\r\n",
      "        \u001b[37m# Update omega motions\u001b[39;49;00m\r\n",
      "        omega[x][x] +=  motion_noise_weight\r\n",
      "        omega[x][next_pose_x] -=  motion_noise_weight\r\n",
      "        omega[next_pose_x][x] -=  motion_noise_weight\r\n",
      "        omega[next_pose_x][next_pose_x] += motion_noise_weight\r\n",
      "\r\n",
      "        omega[y][y] +=  motion_noise_weight\r\n",
      "        omega[y][next_pose_y] -=  motion_noise_weight\r\n",
      "        omega[next_pose_y][y] -=  motion_noise_weight\r\n",
      "        omega[next_pose_y][next_pose_y] += motion_noise_weight\r\n",
      "\r\n",
      "        \u001b[37m# Update Xi motions\u001b[39;49;00m\r\n",
      "        xi[x] -= motion_dx / motion_noise\r\n",
      "        xi[next_pose_x] += motion_dx / motion_noise\r\n",
      "\r\n",
      "        xi[y] -= motion_dy / motion_noise\r\n",
      "        xi[next_pose_y] += motion_dy / motion_noise\r\n",
      "\r\n",
      "    \u001b[37m## TODO: After iterating through all the data\u001b[39;49;00m\r\n",
      "    \u001b[37m## Compute the best estimate of poses and landmark positions\u001b[39;49;00m\r\n",
      "    \u001b[37m## using the formula, omega_inverse * Xi\u001b[39;49;00m\r\n",
      "    mu = np.linalg.inv(np.matrix(omega)) * xi   \r\n",
      "\r\n",
      "    \u001b[34mreturn\u001b[39;49;00m mu  \u001b[37m# return `mu`\u001b[39;49;00m\r\n"
     ]
    }
   ],
   "source": [
    "!pygmentize src/slam.py"
   ]
  },
  {
   "cell_type": "markdown",
   "metadata": {},
   "source": [
    "## Helper functions\n",
    "\n",
    "To check that your implementation of SLAM works for various inputs, we have provided two helper functions that will help display the estimated pose and landmark locations that your function has produced. First, given a result `mu` and number of time steps, `N`, we define a function that extracts the poses and landmarks locations and returns those as their own, separate lists. \n",
    "\n",
    "Then, we define a function that nicely print out these lists; both of these we will call, in the next step.\n"
   ]
  },
  {
   "cell_type": "code",
   "execution_count": 55,
   "metadata": {},
   "outputs": [
    {
     "name": "stdout",
     "output_type": "stream",
     "text": [
      "\u001b[37m# a helper function that creates a list of poses and of landmarks for ease of printing\u001b[39;49;00m\r\n",
      "\u001b[37m# this only works for the suggested constraint architecture of interlaced x,y poses\u001b[39;49;00m\r\n",
      "\u001b[34mdef\u001b[39;49;00m \u001b[32mget_poses_landmarks\u001b[39;49;00m(mu, N, num_landmarks):\r\n",
      "    \u001b[37m# create a list of poses\u001b[39;49;00m\r\n",
      "    poses = []\r\n",
      "    \u001b[34mfor\u001b[39;49;00m i \u001b[35min\u001b[39;49;00m \u001b[36mrange\u001b[39;49;00m(N):\r\n",
      "        poses.append((mu[\u001b[34m2\u001b[39;49;00m * i].item(), mu[\u001b[34m2\u001b[39;49;00m * i + \u001b[34m1\u001b[39;49;00m].item()))\r\n",
      "\r\n",
      "    \u001b[37m# create a list of landmarks\u001b[39;49;00m\r\n",
      "    landmarks = []\r\n",
      "    \u001b[34mfor\u001b[39;49;00m i \u001b[35min\u001b[39;49;00m \u001b[36mrange\u001b[39;49;00m(num_landmarks):\r\n",
      "        landmarks.append((mu[\u001b[34m2\u001b[39;49;00m * (N + i)].item(), mu[\u001b[34m2\u001b[39;49;00m * (N + i) + \u001b[34m1\u001b[39;49;00m].item()))\r\n",
      "\r\n",
      "    \u001b[37m# return completed lists\u001b[39;49;00m\r\n",
      "    \u001b[34mreturn\u001b[39;49;00m poses, landmarks\r\n"
     ]
    }
   ],
   "source": [
    "!pygmentize src/get_poses_landmarks.py"
   ]
  },
  {
   "cell_type": "code",
   "execution_count": 56,
   "metadata": {},
   "outputs": [
    {
     "name": "stdout",
     "output_type": "stream",
     "text": [
      "\u001b[34mdef\u001b[39;49;00m \u001b[32mprint_all\u001b[39;49;00m(poses, landmarks):\r\n",
      "    \u001b[34mprint\u001b[39;49;00m(\u001b[33m'\u001b[39;49;00m\u001b[33m\\n\u001b[39;49;00m\u001b[33m'\u001b[39;49;00m)\r\n",
      "    \u001b[34mprint\u001b[39;49;00m(\u001b[33m'\u001b[39;49;00m\u001b[33mEstimated Poses:\u001b[39;49;00m\u001b[33m'\u001b[39;49;00m)\r\n",
      "    \u001b[34mfor\u001b[39;49;00m i \u001b[35min\u001b[39;49;00m \u001b[36mrange\u001b[39;49;00m(\u001b[36mlen\u001b[39;49;00m(poses)):\r\n",
      "        \u001b[34mprint\u001b[39;49;00m(\u001b[33m'\u001b[39;49;00m\u001b[33m[\u001b[39;49;00m\u001b[33m'\u001b[39;49;00m+\u001b[33m'\u001b[39;49;00m\u001b[33m, \u001b[39;49;00m\u001b[33m'\u001b[39;49;00m.join(\u001b[33m'\u001b[39;49;00m\u001b[33m%.3f\u001b[39;49;00m\u001b[33m'\u001b[39;49;00m%p \u001b[34mfor\u001b[39;49;00m p \u001b[35min\u001b[39;49;00m poses[i])+\u001b[33m'\u001b[39;49;00m\u001b[33m]\u001b[39;49;00m\u001b[33m'\u001b[39;49;00m)\r\n",
      "    \u001b[34mprint\u001b[39;49;00m(\u001b[33m'\u001b[39;49;00m\u001b[33m\\n\u001b[39;49;00m\u001b[33m'\u001b[39;49;00m)\r\n",
      "    \u001b[34mprint\u001b[39;49;00m(\u001b[33m'\u001b[39;49;00m\u001b[33mEstimated Landmarks:\u001b[39;49;00m\u001b[33m'\u001b[39;49;00m)\r\n",
      "    \u001b[34mfor\u001b[39;49;00m i \u001b[35min\u001b[39;49;00m \u001b[36mrange\u001b[39;49;00m(\u001b[36mlen\u001b[39;49;00m(landmarks)):\r\n",
      "        \u001b[34mprint\u001b[39;49;00m(\u001b[33m'\u001b[39;49;00m\u001b[33m[\u001b[39;49;00m\u001b[33m'\u001b[39;49;00m+\u001b[33m'\u001b[39;49;00m\u001b[33m, \u001b[39;49;00m\u001b[33m'\u001b[39;49;00m.join(\u001b[33m'\u001b[39;49;00m\u001b[33m%.3f\u001b[39;49;00m\u001b[33m'\u001b[39;49;00m%l \u001b[34mfor\u001b[39;49;00m l \u001b[35min\u001b[39;49;00m landmarks[i])+\u001b[33m'\u001b[39;49;00m\u001b[33m]\u001b[39;49;00m\u001b[33m'\u001b[39;49;00m)\r\n"
     ]
    }
   ],
   "source": [
    "!pygmentize src/print_all.py"
   ]
  },
  {
   "cell_type": "markdown",
   "metadata": {},
   "source": [
    "## Run SLAM\n",
    "\n",
    "Once you've completed your implementation of `slam`, see what `mu` it returns for different world sizes and different landmarks!\n",
    "\n",
    "### What to Expect\n",
    "\n",
    "The `data` that is generated is random, but you did specify the number, `N`, or time steps that the robot was expected to move and the `num_landmarks` in the world (which your implementation of `slam` should see and estimate a position for. Your robot should also start with an estimated pose in the very center of your square world, whose size is defined by `world_size`.\n",
    "\n",
    "With these values in mind, you should expect to see a result that displays two lists:\n",
    "1. **Estimated poses**, a list of (x, y) pairs that is exactly `N` in length since this is how many motions your robot has taken. The very first pose should be the center of your world, i.e. `[50.000, 50.000]` for a world that is 100.0 in square size.\n",
    "2. **Estimated landmarks**, a list of landmark positions (x, y) that is exactly `num_landmarks` in length. \n",
    "\n",
    "#### Landmark Locations\n",
    "\n",
    "If you refer back to the printout of *exact* landmark locations when this data was created, you should see values that are very similar to those coordinates, but not quite (since `slam` must account for noise in motion and measurement)."
   ]
  },
  {
   "cell_type": "code",
   "execution_count": 57,
   "metadata": {},
   "outputs": [
    {
     "name": "stdout",
     "output_type": "stream",
     "text": [
      "[-1.815640335881655, 19.91741575031057]\n",
      "[0, 14.0, 35.0]\n",
      "[1, 8.0, -9.0]\n",
      "[2, 4.0, -34.0]\n",
      "[3, 6.0, 22.0]\n",
      "[4, 27.0, -25.0]\n",
      "[-1.815640335881655, 19.91741575031057]\n",
      "[0, 13.840577753806222, 13.157255482038579]\n",
      "[1, 7.8405777538062225, -30.84274451796142]\n",
      "[3, 5.8405777538062225, 0.15725548203857898]\n",
      "[4, 26.840577753806222, -46.84274451796142]\n",
      "[9.293353717873979, -17.709702896279143]\n",
      "[0, 15.378041363049967, -8.681047072768365]\n",
      "[3, 7.378041363049967, -21.681047072768365]\n",
      "[9.293353717873979, -17.709702896279143]\n",
      "[0, 8.040951446536702, 9.729851480300738]\n",
      "[1, 2.0409514465367025, -34.27014851969926]\n",
      "[3, 0.04095144653670246, -3.270148519699262]\n",
      "[9.293353717873979, -17.709702896279143]\n",
      "[0, 0.26121016826165544, 26.90160960517928]\n",
      "[1, -5.738789831738345, -17.09839039482072]\n",
      "[2, -9.738789831738345, -42.09839039482072]\n",
      "[3, -7.738789831738345, 13.901609605179281]\n",
      "[4, 13.261210168261655, -33.09839039482072]\n",
      "[9.293353717873979, -17.709702896279143]\n",
      "[0, -9.240759022429643, 44.78821138792727]\n",
      "[1, -15.240759022429643, 0.7882113879272694]\n",
      "[2, -19.240759022429643, -24.21178861207273]\n",
      "[3, -17.240759022429643, 31.78821138792727]\n",
      "[4, 3.7592409775703572, -15.21178861207273]\n",
      "[9.293353717873979, -17.709702896279143]\n",
      "[1, -22.86980002318623, 18.564892604284786]\n",
      "[2, -26.86980002318623, -6.435107395715214]\n",
      "[3, -24.86980002318623, 49.564892604284786]\n",
      "[4, -3.8698000231862295, 2.564892604284786]\n",
      "[7.8559193640693605, 18.39251290458267]\n",
      "[1, -30.184631830553087, 35.03123475897165]\n",
      "[2, -34.18463183055309, 10.031234758971651]\n",
      "[4, -11.184631830553087, 19.03123475897165]\n",
      "[1.2100210825213529, 19.963362667142373]\n",
      "[1, -37.5563636043628, 16.6781795016757]\n",
      "[2, -41.5563636043628, -8.3218204983243]\n",
      "[3, -39.5563636043628, 47.6781795016757]\n",
      "[4, -18.5563636043628, 0.6781795016757002]\n",
      "[1.2100210825213529, 19.963362667142373]\n",
      "[0, -32.78883741066825, 41.24256881970991]\n",
      "[1, -38.78883741066825, -2.757431180290091]\n",
      "[2, -42.78883741066825, -27.75743118029009]\n",
      "[3, -40.78883741066825, 28.24256881970991]\n",
      "[4, -19.78883741066825, -18.75743118029009]\n",
      "[1.2100210825213529, 19.963362667142373]\n",
      "[0, -32.45339679056788, 20.52640497438435]\n",
      "[1, -38.45339679056788, -23.47359502561565]\n",
      "[2, -42.45339679056788, -48.47359502561565]\n",
      "[3, -40.45339679056788, 7.526404974384349]\n",
      "[4, -19.45339679056788, -39.47359502561565]\n",
      "[-16.542788317578797, -11.23993570621196]\n",
      "[0, -32.71770859578699, 1.3514814418178673]\n",
      "[1, -38.71770859578699, -42.64851855818213]\n",
      "[3, -40.71770859578699, -11.648518558182133]\n",
      "[-16.542788317578797, -11.23993570621196]\n",
      "[0, -17.77117534434653, 11.22524542289446]\n",
      "[1, -23.77117534434653, -32.77475457710554]\n",
      "[3, -25.77117534434653, -1.77475457710554]\n",
      "[4, -4.771175344346531, -48.77475457710554]\n",
      "[-16.542788317578797, -11.23993570621196]\n",
      "[0, -1.2927003683200269, 20.779802190808397]\n",
      "[1, -7.292700368320027, -23.220197809191603]\n",
      "[2, -11.292700368320027, -48.2201978091916]\n",
      "[3, -9.292700368320027, 7.779802190808397]\n",
      "[4, 11.707299631679973, -39.2201978091916]\n",
      "[-16.542788317578797, -11.23993570621196]\n",
      "[0, 17.225108623076828, 32.860039499114144]\n",
      "[1, 11.225108623076828, -11.139960500885856]\n",
      "[2, 7.225108623076828, -36.139960500885856]\n",
      "[3, 9.225108623076828, 19.860039499114144]\n",
      "[4, 30.225108623076828, -27.139960500885856]\n",
      "[-16.542788317578797, -11.23993570621196]\n",
      "[0, 34.93052273103877, 44.98076457029672]\n",
      "[1, 28.93052273103877, 0.9807645702967207]\n",
      "[2, 24.93052273103877, -24.01923542970328]\n",
      "[3, 26.93052273103877, 31.98076457029672]\n",
      "[4, 47.93052273103877, -15.01923542970328]\n",
      "[19.371116452172362, -4.975926787682593]\n",
      "[1, 46.95085978533757, 10.670205607089887]\n",
      "[2, 42.95085978533757, -14.329794392910113]\n",
      "[3, 44.95085978533757, 41.67020560708988]\n",
      "[19.371116452172362, -4.975926787682593]\n",
      "[1, 25.988457897105896, 15.12495394150561]\n",
      "[2, 21.988457897105896, -9.87504605849439]\n",
      "[3, 23.988457897105896, 46.12495394150561]\n",
      "[4, 44.988457897105896, -0.8750460584943909]\n",
      "[19.371116452172362, -4.975926787682593]\n",
      "[1, 7.3261695155997515, 21.52326396459171]\n",
      "[2, 3.3261695155997515, -3.4767360354082903]\n",
      "[4, 26.32616951559975, 5.52326396459171]\n",
      "\n",
      "\n",
      "Estimated Poses:\n",
      "[50.000, 50.000]\n",
      "[49.530, 71.477]\n",
      "[47.679, 92.723]\n",
      "[55.677, 75.062]\n",
      "[63.679, 57.704]\n",
      "[72.730, 39.930]\n",
      "[80.574, 22.306]\n",
      "[88.250, 5.420]\n",
      "[95.407, 23.913]\n",
      "[96.331, 43.595]\n",
      "[96.311, 64.023]\n",
      "[96.926, 83.755]\n",
      "[81.263, 73.529]\n",
      "[64.709, 63.555]\n",
      "[46.584, 51.817]\n",
      "[28.851, 40.023]\n",
      "[11.370, 29.810]\n",
      "[31.491, 25.250]\n",
      "[50.540, 19.445]\n",
      "[69.912, 14.469]\n",
      "\n",
      "\n",
      "Estimated Landmarks:\n",
      "[63.668, 84.697]\n",
      "[57.773, 40.708]\n",
      "[53.795, 15.676]\n",
      "[55.708, 71.669]\n",
      "[76.711, 24.691]\n"
     ]
    }
   ],
   "source": [
    "from src.get_poses_landmarks import get_poses_landmarks\n",
    "from src.slam import slam\n",
    "\n",
    "# call your implementation of slam, passing in the necessary parameters\n",
    "mu = slam(data, N, num_landmarks, world_size, motion_noise, measurement_noise)\n",
    "\n",
    "# print out the resulting landmarks and poses\n",
    "if(mu is not None):\n",
    "    # get the lists of poses and landmarks\n",
    "    # and print them out\n",
    "    poses, landmarks = get_poses_landmarks(mu, N, num_landmarks)\n",
    "    print_all(poses, landmarks)"
   ]
  },
  {
   "cell_type": "markdown",
   "metadata": {},
   "source": [
    "## Visualize the constructed world\n",
    "\n",
    "Finally, using the `display_world` code from the `helpers.py` file (which was also used in the first notebook), we can actually visualize what you have coded with `slam`: the final position of the robot and the positon of landmarks, created from only motion and measurement data!\n",
    "\n",
    "**Note that these should be very similar to the printed *true* landmark locations and final pose from our call to `make_data` early in this notebook.**"
   ]
  },
  {
   "cell_type": "code",
   "execution_count": 58,
   "metadata": {},
   "outputs": [
    {
     "name": "stdout",
     "output_type": "stream",
     "text": [
      "Last pose:  (69.91159036374776, 14.468981817941824)\n"
     ]
    },
    {
     "data": {
      "image/png": "[encoded data removed]",
      "text/plain": [
       "<Figure size 1440x1440 with 1 Axes>"
      ]
     },
     "metadata": {},
     "output_type": "display_data"
    }
   ],
   "source": [
    "# import the helper function\n",
    "from src.helpers import display_world\n",
    "\n",
    "# Display the final world!\n",
    "\n",
    "# define figure size\n",
    "plt.rcParams[\"figure.figsize\"] = (20,20)\n",
    "\n",
    "# check if poses has been created\n",
    "if 'poses' in locals():\n",
    "    # print out the last pose\n",
    "    print('Last pose: ', poses[-1])\n",
    "    # display the last position of the robot *and* the landmark positions\n",
    "    display_world(int(world_size), poses[-1], landmarks)"
   ]
  },
  {
   "cell_type": "markdown",
   "metadata": {},
   "source": [
    "### Question: How far away is your final pose (as estimated by `slam`) compared to the *true* final pose? Why do you think these poses are different?\n",
    "\n",
    "You can find the true value of the final pose in one of the first cells where `make_data` was called. You may also want to look at the true landmark locations and compare them to those that were estimated by `slam`. Ask yourself: what do you think would happen if we moved and sensed more (increased N)? Or if we had lower/higher noise parameters."
   ]
  },
  {
   "cell_type": "markdown",
   "metadata": {},
   "source": [
    "**Answer**: (Write your answer here.)"
   ]
  },
  {
   "cell_type": "markdown",
   "metadata": {},
   "source": [
    "## Testing\n",
    "\n",
    "To confirm that your slam code works before submitting your project, it is suggested that you run it on some test data and cases. A few such cases have been provided for you, in the cells below. When you are ready, uncomment the test cases in the next cells (there are two test cases, total); your output should be **close-to or exactly** identical to the given results. If there are minor discrepancies it could be a matter of floating point accuracy or in the calculation of the inverse matrix.\n",
    "\n",
    "### Submit your project\n",
    "\n",
    "If you pass these tests, it is a good indication that your project will pass all the specifications in the project rubric. Follow the submission instructions to officially submit!"
   ]
  },
  {
   "cell_type": "code",
   "execution_count": 62,
   "metadata": {},
   "outputs": [
    {
     "name": "stdout",
     "output_type": "stream",
     "text": [
      "[-12.2607279422326, -15.801093326936487]\n",
      "[1, 19.457599255548065, 23.8387362100849]\n",
      "[2, -13.195807561967236, 11.708840328458608]\n",
      "[3, -30.0954905279171, 15.387879242505843]\n",
      "[-12.2607279422326, -15.801093326936487]\n",
      "[2, -0.4659930049620491, 28.088559771215664]\n",
      "[4, -17.866382374890936, -16.384904503932]\n",
      "[-12.2607279422326, -15.801093326936487]\n",
      "[4, -6.202512900833806, -1.823403210274639]\n",
      "[14.008259661173426, 14.274756084260822]\n",
      "[4, 7.412136480918645, 15.388585962142429]\n",
      "[14.008259661173426, 14.274756084260822]\n",
      "[4, -7.526138813444998, -0.4563942429717849]\n",
      "[14.008259661173426, 14.274756084260822]\n",
      "[2, -6.299793150150058, 29.047830407717623]\n",
      "[4, -21.93551130411791, -13.21956810989039]\n",
      "[14.008259661173426, 14.274756084260822]\n",
      "[1, 15.796300959032276, 30.65769689694247]\n",
      "[2, -18.64370821983482, 17.380022987031367]\n",
      "[14.008259661173426, 14.274756084260822]\n",
      "[1, 0.40311325410337906, 14.169429532679855]\n",
      "[2, -35.069349468466235, 2.4945558982439957]\n",
      "[-11.006096015782283, 16.699276945166858]\n",
      "[1, -16.71340983241936, -2.777000269543834]\n",
      "[-19.693482634035977, 3.488085684573048]\n",
      "[1, -3.611096830835776, -17.954019226763958]\n",
      "[-19.693482634035977, 3.488085684573048]\n",
      "[1, 18.398273354362416, -22.705102332550947]\n",
      "[12.849049222879723, -15.326510824972983]\n",
      "[2, 2.789312482883833, -39.73720193121324]\n",
      "[12.849049222879723, -15.326510824972983]\n",
      "[1, 21.26897046581808, -10.121029799040915]\n",
      "[2, -11.917698965880655, -23.17711662602097]\n",
      "[3, -31.81167947898398, -16.7985673023331]\n",
      "[12.849049222879723, -15.326510824972983]\n",
      "[1, 10.48157743234859, 5.692957082575485]\n",
      "[2, -22.31488473554935, -5.389184118551409]\n",
      "[3, -40.81803984305378, -2.4703329790238118]\n",
      "[12.849049222879723, -15.326510824972983]\n",
      "[0, 10.591050242096598, -39.2051798967113]\n",
      "[1, -3.5675572049297553, 22.849456408289125]\n",
      "[2, -38.39251065320351, 7.288990306029511]\n",
      "[-7.8874682868419965, -18.379005523261092]\n",
      "[0, -3.6225556479370766, -25.58006865235512]\n",
      "[-7.8874682868419965, -18.379005523261092]\n",
      "[0, 1.9784503557879374, -6.5025974151499]\n",
      "[-17.82919359778298, 9.062000642947142]\n",
      "[0, 10.050665232782423, 11.026385307998742]\n",
      "[-17.82919359778298, 9.062000642947142]\n",
      "[0, 26.526838150174818, -0.22563393232425621]\n",
      "[4, -33.70303936886652, 2.880339841013677]\n"
     ]
    },
    {
     "ename": "TypeError",
     "evalue": "get_poses_landmarks() missing 1 required positional argument: 'num_landmarks'",
     "output_type": "error",
     "traceback": [
      "\u001b[0;31m---------------------------------------------------------------------------\u001b[0m",
      "\u001b[0;31mTypeError\u001b[0m                                 Traceback (most recent call last)",
      "\u001b[0;32m<ipython-input-62-65a2ed984d36>\u001b[0m in \u001b[0;36m<module>\u001b[0;34m\u001b[0m\n\u001b[1;32m     39\u001b[0m \u001b[0;34m\u001b[0m\u001b[0m\n\u001b[1;32m     40\u001b[0m \u001b[0mmu_1\u001b[0m \u001b[0;34m=\u001b[0m \u001b[0mslam\u001b[0m\u001b[0;34m(\u001b[0m\u001b[0mtest_data1\u001b[0m\u001b[0;34m,\u001b[0m \u001b[0;36m20\u001b[0m\u001b[0;34m,\u001b[0m \u001b[0;36m5\u001b[0m\u001b[0;34m,\u001b[0m \u001b[0;36m100.0\u001b[0m\u001b[0;34m,\u001b[0m \u001b[0;36m2.0\u001b[0m\u001b[0;34m,\u001b[0m \u001b[0;36m2.0\u001b[0m\u001b[0;34m)\u001b[0m\u001b[0;34m\u001b[0m\u001b[0;34m\u001b[0m\u001b[0m\n\u001b[0;32m---> 41\u001b[0;31m \u001b[0mposes\u001b[0m\u001b[0;34m,\u001b[0m \u001b[0mlandmarks\u001b[0m \u001b[0;34m=\u001b[0m \u001b[0mget_poses_landmarks\u001b[0m\u001b[0;34m(\u001b[0m\u001b[0mmu_1\u001b[0m\u001b[0;34m,\u001b[0m \u001b[0;36m20\u001b[0m\u001b[0;34m)\u001b[0m\u001b[0;34m\u001b[0m\u001b[0;34m\u001b[0m\u001b[0m\n\u001b[0m\u001b[1;32m     42\u001b[0m \u001b[0mprint_all\u001b[0m\u001b[0;34m(\u001b[0m\u001b[0mposes\u001b[0m\u001b[0;34m,\u001b[0m \u001b[0mlandmarks\u001b[0m\u001b[0;34m)\u001b[0m\u001b[0;34m\u001b[0m\u001b[0;34m\u001b[0m\u001b[0m\n",
      "\u001b[0;31mTypeError\u001b[0m: get_poses_landmarks() missing 1 required positional argument: 'num_landmarks'"
     ]
    }
   ],
   "source": [
    "# Here is the data and estimated outputs for test case 1\n",
    "\n",
    "test_data1 = [[[[1, 19.457599255548065, 23.8387362100849], [2, -13.195807561967236, 11.708840328458608], [3, -30.0954905279171, 15.387879242505843]], [-12.2607279422326, -15.801093326936487]], [[[2, -0.4659930049620491, 28.088559771215664], [4, -17.866382374890936, -16.384904503932]], [-12.2607279422326, -15.801093326936487]], [[[4, -6.202512900833806, -1.823403210274639]], [-12.2607279422326, -15.801093326936487]], [[[4, 7.412136480918645, 15.388585962142429]], [14.008259661173426, 14.274756084260822]], [[[4, -7.526138813444998, -0.4563942429717849]], [14.008259661173426, 14.274756084260822]], [[[2, -6.299793150150058, 29.047830407717623], [4, -21.93551130411791, -13.21956810989039]], [14.008259661173426, 14.274756084260822]], [[[1, 15.796300959032276, 30.65769689694247], [2, -18.64370821983482, 17.380022987031367]], [14.008259661173426, 14.274756084260822]], [[[1, 0.40311325410337906, 14.169429532679855], [2, -35.069349468466235, 2.4945558982439957]], [14.008259661173426, 14.274756084260822]], [[[1, -16.71340983241936, -2.777000269543834]], [-11.006096015782283, 16.699276945166858]], [[[1, -3.611096830835776, -17.954019226763958]], [-19.693482634035977, 3.488085684573048]], [[[1, 18.398273354362416, -22.705102332550947]], [-19.693482634035977, 3.488085684573048]], [[[2, 2.789312482883833, -39.73720193121324]], [12.849049222879723, -15.326510824972983]], [[[1, 21.26897046581808, -10.121029799040915], [2, -11.917698965880655, -23.17711662602097], [3, -31.81167947898398, -16.7985673023331]], [12.849049222879723, -15.326510824972983]], [[[1, 10.48157743234859, 5.692957082575485], [2, -22.31488473554935, -5.389184118551409], [3, -40.81803984305378, -2.4703329790238118]], [12.849049222879723, -15.326510824972983]], [[[0, 10.591050242096598, -39.2051798967113], [1, -3.5675572049297553, 22.849456408289125], [2, -38.39251065320351, 7.288990306029511]], [12.849049222879723, -15.326510824972983]], [[[0, -3.6225556479370766, -25.58006865235512]], [-7.8874682868419965, -18.379005523261092]], [[[0, 1.9784503557879374, -6.5025974151499]], [-7.8874682868419965, -18.379005523261092]], [[[0, 10.050665232782423, 11.026385307998742]], [-17.82919359778298, 9.062000642947142]], [[[0, 26.526838150174818, -0.22563393232425621], [4, -33.70303936886652, 2.880339841013677]], [-17.82919359778298, 9.062000642947142]]]\n",
    "\n",
    "##  Test Case 1\n",
    "##\n",
    "# Estimated Pose(s):\n",
    "#     [50.000, 50.000]\n",
    "#     [37.858, 33.921]\n",
    "#     [25.905, 18.268]\n",
    "#     [13.524, 2.224]\n",
    "#     [27.912, 16.886]\n",
    "#     [42.250, 30.994]\n",
    "#     [55.992, 44.886]\n",
    "#     [70.749, 59.867]\n",
    "#     [85.371, 75.230]\n",
    "#     [73.831, 92.354]\n",
    "#     [53.406, 96.465]\n",
    "#     [34.370, 100.134]\n",
    "#     [48.346, 83.952]\n",
    "#     [60.494, 68.338]\n",
    "#     [73.648, 53.082]\n",
    "#     [86.733, 38.197]\n",
    "#     [79.983, 20.324]\n",
    "#     [72.515, 2.837]\n",
    "#     [54.993, 13.221]\n",
    "#     [37.164, 22.283]\n",
    "\n",
    "\n",
    "# Estimated Landmarks:\n",
    "#     [82.679, 13.435]\n",
    "#     [70.417, 74.203]\n",
    "#     [36.688, 61.431]\n",
    "#     [18.705, 66.136]\n",
    "#     [20.437, 16.983]\n",
    "\n",
    "\n",
    "### Uncomment the following three lines for test case 1 and compare the output to the values above ###\n",
    "\n",
    "mu_1 = slam(test_data1, 20, 5, 100.0, 2.0, 2.0)\n",
    "poses, landmarks = get_poses_landmarks(mu_1, 20)\n",
    "print_all(poses, landmarks)"
   ]
  },
  {
   "cell_type": "code",
   "execution_count": 61,
   "metadata": {},
   "outputs": [
    {
     "name": "stdout",
     "output_type": "stream",
     "text": [
      "[18.92765331253674, -6.460955043986683]\n",
      "[0, 26.543274387283322, -6.262538160312672]\n",
      "[3, 9.937396825799755, -9.128540360867689]\n",
      "[18.92765331253674, -6.460955043986683]\n",
      "[0, 7.706544739722961, -3.758467215445748]\n",
      "[1, 17.03954411948937, 31.705489938553438]\n",
      "[3, -11.61731288777497, -6.64964096716416]\n",
      "[-11.167066095509824, 16.592065417497455]\n",
      "[0, -12.35130507136378, 2.585119104239249]\n",
      "[1, -2.563534536165313, 38.22159657838369]\n",
      "[3, -26.961236804740935, -0.4802312626141525]\n",
      "[-11.167066095509824, 16.592065417497455]\n",
      "[0, 1.4138633151721272, -13.912454837810632]\n",
      "[1, 8.087721200818589, 20.51845934354381]\n",
      "[3, -17.091723454402302, -16.521500551709707]\n",
      "[4, -7.414211721400232, 38.09191602674439]\n",
      "[-11.167066095509824, 16.592065417497455]\n",
      "[0, 12.886743222179561, -28.703968411636318]\n",
      "[1, 21.660953298391387, 3.4912891084614914]\n",
      "[3, -6.401401414569506, -32.321583037341625]\n",
      "[4, 5.034079343639034, 23.102207946092893]\n",
      "[-6.595520680493778, -18.88118393939265]\n",
      "[1, 31.126317672358578, -10.036784369535214]\n",
      "[2, -38.70878528420893, 7.4987265861424595]\n",
      "[4, 17.977218575473767, 6.150889254289742]\n",
      "[-6.595520680493778, -18.88118393939265]\n",
      "[1, 41.82460922922086, 7.847527392202475]\n",
      "[3, 15.711709540417502, -30.34633659912818]\n",
      "[-6.595520680493778, -18.88118393939265]\n",
      "[0, 40.18454208294434, -6.710999804403755]\n",
      "[3, 23.019508919299156, -10.12110867290604]\n",
      "[-6.595520680493778, -18.88118393939265]\n",
      "[3, 27.18579315312821, 8.067219022708391]\n",
      "[11.492663265706092, 16.36822198838621]\n",
      "[11.492663265706092, 16.36822198838621]\n",
      "[3, 24.57154567653098, 13.461499960708197]\n",
      "[11.492663265706092, 16.36822198838621]\n",
      "[0, 31.61945290413707, 0.4272295085799329]\n",
      "[3, 16.97392299158991, -5.274596836133088]\n",
      "[11.492663265706092, 16.36822198838621]\n",
      "[0, 22.407381798735177, -18.03500068379259]\n",
      "[1, 29.642444125196995, 17.3794951934614]\n",
      "[3, 4.7969752441371645, -21.07505361639969]\n",
      "[4, 14.726069092569372, 32.75999422300078]\n",
      "[11.492663265706092, 16.36822198838621]\n",
      "[0, 10.705527984670137, -34.589764174299596]\n",
      "[1, 18.58772336795603, -0.20109708164787765]\n",
      "[3, -4.839806195049413, -39.92208742305105]\n",
      "[4, 4.18824810165454, 14.146847823548889]\n",
      "[19.628527845173146, 3.83678180657467]\n",
      "[1, 5.878492140223764, -19.955352450942357]\n",
      "[4, -7.059505455306587, -0.9740849280550585]\n",
      "[-19.841703647091965, 2.5113335861604362]\n",
      "[1, -11.150789592446378, -22.736641053247872]\n",
      "[4, -28.832815721158255, -3.9462962046291388]\n",
      "[-5.946642674882207, -19.09548221169787]\n",
      "[1, 8.64427397916182, -20.286336970889053]\n",
      "[4, -5.036917727942285, -6.311739993868336]\n",
      "[-5.946642674882207, -19.09548221169787]\n",
      "[0, 7.151866679283043, -39.56103232616369]\n",
      "[1, 16.01535401373368, -3.780995345194027]\n",
      "[4, -3.04801331832137, 13.697362774960865]\n",
      "[-5.946642674882207, -19.09548221169787]\n",
      "[0, 12.872879480504395, -19.707592098123207]\n",
      "[1, 22.236710716903136, 16.331770792606406]\n",
      "[3, -4.841206109583004, -21.24604435851242]\n",
      "[4, 4.27111163223552, 32.25309748614184]\n"
     ]
    },
    {
     "ename": "TypeError",
     "evalue": "get_poses_landmarks() missing 1 required positional argument: 'num_landmarks'",
     "output_type": "error",
     "traceback": [
      "\u001b[0;31m---------------------------------------------------------------------------\u001b[0m",
      "\u001b[0;31mTypeError\u001b[0m                                 Traceback (most recent call last)",
      "\u001b[0;32m<ipython-input-61-72d5cd171835>\u001b[0m in \u001b[0;36m<module>\u001b[0;34m\u001b[0m\n\u001b[1;32m     40\u001b[0m \u001b[0;34m\u001b[0m\u001b[0m\n\u001b[1;32m     41\u001b[0m \u001b[0mmu_2\u001b[0m \u001b[0;34m=\u001b[0m \u001b[0mslam\u001b[0m\u001b[0;34m(\u001b[0m\u001b[0mtest_data2\u001b[0m\u001b[0;34m,\u001b[0m \u001b[0;36m20\u001b[0m\u001b[0;34m,\u001b[0m \u001b[0;36m5\u001b[0m\u001b[0;34m,\u001b[0m \u001b[0;36m100.0\u001b[0m\u001b[0;34m,\u001b[0m \u001b[0;36m2.0\u001b[0m\u001b[0;34m,\u001b[0m \u001b[0;36m2.0\u001b[0m\u001b[0;34m)\u001b[0m\u001b[0;34m\u001b[0m\u001b[0;34m\u001b[0m\u001b[0m\n\u001b[0;32m---> 42\u001b[0;31m \u001b[0mposes\u001b[0m\u001b[0;34m,\u001b[0m \u001b[0mlandmarks\u001b[0m \u001b[0;34m=\u001b[0m \u001b[0mget_poses_landmarks\u001b[0m\u001b[0;34m(\u001b[0m\u001b[0mmu_2\u001b[0m\u001b[0;34m,\u001b[0m \u001b[0;36m20\u001b[0m\u001b[0;34m)\u001b[0m\u001b[0;34m\u001b[0m\u001b[0;34m\u001b[0m\u001b[0m\n\u001b[0m\u001b[1;32m     43\u001b[0m \u001b[0mprint_all\u001b[0m\u001b[0;34m(\u001b[0m\u001b[0mposes\u001b[0m\u001b[0;34m,\u001b[0m \u001b[0mlandmarks\u001b[0m\u001b[0;34m)\u001b[0m\u001b[0;34m\u001b[0m\u001b[0;34m\u001b[0m\u001b[0m\n",
      "\u001b[0;31mTypeError\u001b[0m: get_poses_landmarks() missing 1 required positional argument: 'num_landmarks'"
     ]
    }
   ],
   "source": [
    "# Here is the data and estimated outputs for test case 2\n",
    "\n",
    "test_data2 = [[[[0, 26.543274387283322, -6.262538160312672], [3, 9.937396825799755, -9.128540360867689]], [18.92765331253674, -6.460955043986683]], [[[0, 7.706544739722961, -3.758467215445748], [1, 17.03954411948937, 31.705489938553438], [3, -11.61731288777497, -6.64964096716416]], [18.92765331253674, -6.460955043986683]], [[[0, -12.35130507136378, 2.585119104239249], [1, -2.563534536165313, 38.22159657838369], [3, -26.961236804740935, -0.4802312626141525]], [-11.167066095509824, 16.592065417497455]], [[[0, 1.4138633151721272, -13.912454837810632], [1, 8.087721200818589, 20.51845934354381], [3, -17.091723454402302, -16.521500551709707], [4, -7.414211721400232, 38.09191602674439]], [-11.167066095509824, 16.592065417497455]], [[[0, 12.886743222179561, -28.703968411636318], [1, 21.660953298391387, 3.4912891084614914], [3, -6.401401414569506, -32.321583037341625], [4, 5.034079343639034, 23.102207946092893]], [-11.167066095509824, 16.592065417497455]], [[[1, 31.126317672358578, -10.036784369535214], [2, -38.70878528420893, 7.4987265861424595], [4, 17.977218575473767, 6.150889254289742]], [-6.595520680493778, -18.88118393939265]], [[[1, 41.82460922922086, 7.847527392202475], [3, 15.711709540417502, -30.34633659912818]], [-6.595520680493778, -18.88118393939265]], [[[0, 40.18454208294434, -6.710999804403755], [3, 23.019508919299156, -10.12110867290604]], [-6.595520680493778, -18.88118393939265]], [[[3, 27.18579315312821, 8.067219022708391]], [-6.595520680493778, -18.88118393939265]], [[], [11.492663265706092, 16.36822198838621]], [[[3, 24.57154567653098, 13.461499960708197]], [11.492663265706092, 16.36822198838621]], [[[0, 31.61945290413707, 0.4272295085799329], [3, 16.97392299158991, -5.274596836133088]], [11.492663265706092, 16.36822198838621]], [[[0, 22.407381798735177, -18.03500068379259], [1, 29.642444125196995, 17.3794951934614], [3, 4.7969752441371645, -21.07505361639969], [4, 14.726069092569372, 32.75999422300078]], [11.492663265706092, 16.36822198838621]], [[[0, 10.705527984670137, -34.589764174299596], [1, 18.58772336795603, -0.20109708164787765], [3, -4.839806195049413, -39.92208742305105], [4, 4.18824810165454, 14.146847823548889]], [11.492663265706092, 16.36822198838621]], [[[1, 5.878492140223764, -19.955352450942357], [4, -7.059505455306587, -0.9740849280550585]], [19.628527845173146, 3.83678180657467]], [[[1, -11.150789592446378, -22.736641053247872], [4, -28.832815721158255, -3.9462962046291388]], [-19.841703647091965, 2.5113335861604362]], [[[1, 8.64427397916182, -20.286336970889053], [4, -5.036917727942285, -6.311739993868336]], [-5.946642674882207, -19.09548221169787]], [[[0, 7.151866679283043, -39.56103232616369], [1, 16.01535401373368, -3.780995345194027], [4, -3.04801331832137, 13.697362774960865]], [-5.946642674882207, -19.09548221169787]], [[[0, 12.872879480504395, -19.707592098123207], [1, 22.236710716903136, 16.331770792606406], [3, -4.841206109583004, -21.24604435851242], [4, 4.27111163223552, 32.25309748614184]], [-5.946642674882207, -19.09548221169787]]] \n",
    "\n",
    "\n",
    "##  Test Case 2\n",
    "##\n",
    "# Estimated Pose(s):\n",
    "#     [50.000, 50.000]\n",
    "#     [69.035, 45.061]\n",
    "#     [87.655, 38.971]\n",
    "#     [76.084, 55.541]\n",
    "#     [64.283, 71.684]\n",
    "#     [52.396, 87.887]\n",
    "#     [44.674, 68.948]\n",
    "#     [37.532, 49.680]\n",
    "#     [31.392, 30.893]\n",
    "#     [24.796, 12.012]\n",
    "#     [33.641, 26.440]\n",
    "#     [43.858, 43.560]\n",
    "#     [54.735, 60.659]\n",
    "#     [65.884, 77.791]\n",
    "#     [77.413, 94.554]\n",
    "#     [96.740, 98.020]\n",
    "#     [76.149, 99.586]\n",
    "#     [70.211, 80.580]\n",
    "#     [64.130, 61.270]\n",
    "#     [58.183, 42.175]\n",
    "\n",
    "\n",
    "# Estimated Landmarks:\n",
    "#     [76.777, 42.415]\n",
    "#     [85.109, 76.850]\n",
    "#     [13.687, 95.386]\n",
    "#     [59.488, 39.149]\n",
    "#     [69.283, 93.654]\n",
    "\n",
    "\n",
    "### Uncomment the following three lines for test case 2 and compare to the values above ###\n",
    "\n",
    "mu_2 = slam(test_data2, 20, 5, 100.0, 2.0, 2.0)\n",
    "poses, landmarks = get_poses_landmarks(mu_2, 20)\n",
    "print_all(poses, landmarks)\n"
   ]
  },
  {
   "cell_type": "code",
   "execution_count": null,
   "metadata": {},
   "outputs": [],
   "source": []
  }
 ],
 "metadata": {
  "kernelspec": {
   "display_name": "Python 3",
   "language": "python",
   "name": "python3"
  },
  "language_info": {
   "codemirror_mode": {
    "name": "ipython",
    "version": 3
   },
   "file_extension": ".py",
   "mimetype": "text/x-python",
   "name": "python",
   "nbconvert_exporter": "python",
   "pygments_lexer": "ipython3",
   "version": "3.6.8"
  }
 },
 "nbformat": 4,
 "nbformat_minor": 2
}
